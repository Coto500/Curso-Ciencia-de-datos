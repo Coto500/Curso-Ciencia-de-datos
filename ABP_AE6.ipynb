{
 "cells": [
  {
   "cell_type": "markdown",
   "id": "2a17bbe2-9bf1-4f27-9287-24152c942dc7",
   "metadata": {},
   "source": [
    "### 1. Instalación de Git"
   ]
  },
  {
   "cell_type": "code",
   "execution_count": null,
   "id": "ecc01adc-4f96-4209-8c20-77f9d0bdf570",
   "metadata": {},
   "outputs": [],
   "source": [
    "pip install PyGithub\n"
   ]
  },
  {
   "cell_type": "markdown",
   "id": "c02e7162-9991-4299-96c1-d707056fbc02",
   "metadata": {},
   "source": [
    "### 2. Configurando Git por primera vez. Git trae una herramienta llamada git config, que te permite obtener y establecer variables de configuración que controlan el aspecto y funcionamiento de Git."
   ]
  },
  {
   "cell_type": "code",
   "execution_count": null,
   "id": "fdc22dd8-8737-446a-8813-84376d9d84d2",
   "metadata": {},
   "outputs": [],
   "source": [
    "\n"
   ]
  },
  {
   "cell_type": "markdown",
   "id": "6952ec0b-0e06-416a-b170-2a4aac5526db",
   "metadata": {},
   "source": [
    "### 3. Tu Identidad. $ git config --global user.name \"John Doe\" $ git config --global user.email johndoe@example.com"
   ]
  },
  {
   "cell_type": "code",
   "execution_count": null,
   "id": "5ed88dbc-62a4-429b-bf9c-92fe05a5d429",
   "metadata": {},
   "outputs": [],
   "source": []
  },
  {
   "cell_type": "markdown",
   "id": "7ca113c1-d3f4-41ec-80af-e358cd37ed7d",
   "metadata": {},
   "source": [
    "### 4. Comprobando tu Configuración. Si quieres comprobar tu configuración, puedes usar el comando git config --list para mostrar todas las propiedades que Git ha configurado."
   ]
  },
  {
   "cell_type": "code",
   "execution_count": null,
   "id": "84894ff0-e9ba-44f4-b5f8-064ee5fa51e1",
   "metadata": {},
   "outputs": [],
   "source": []
  },
  {
   "cell_type": "markdown",
   "id": "da0d710a-8f00-47f1-8163-0fa6bfd9dec9",
   "metadata": {},
   "source": [
    "### 5. Practicar Comandos: git init, git add, git status, git commit, git log, git show, etc."
   ]
  },
  {
   "cell_type": "code",
   "execution_count": null,
   "id": "a625adcb-6345-4b2f-8d71-e7eb243a8e10",
   "metadata": {},
   "outputs": [],
   "source": []
  }
 ],
 "metadata": {
  "kernelspec": {
   "display_name": "Python 3 (ipykernel)",
   "language": "python",
   "name": "python3"
  },
  "language_info": {
   "codemirror_mode": {
    "name": "ipython",
    "version": 3
   },
   "file_extension": ".py",
   "mimetype": "text/x-python",
   "name": "python",
   "nbconvert_exporter": "python",
   "pygments_lexer": "ipython3",
   "version": "3.11.7"
  }
 },
 "nbformat": 4,
 "nbformat_minor": 5
}
